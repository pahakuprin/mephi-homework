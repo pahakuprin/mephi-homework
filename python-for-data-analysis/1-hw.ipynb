{
 "cells": [
  {
   "cell_type": "markdown",
   "id": "dcb3d505-fc19-43df-addf-171a05041cb4",
   "metadata": {},
   "source": [
    "## Подготовка данных"
   ]
  },
  {
   "cell_type": "markdown",
   "id": "12f17bea-e3fb-4aab-95f2-37e13e6a6a21",
   "metadata": {},
   "source": [
    "### Импорт библиотек"
   ]
  },
  {
   "cell_type": "code",
   "execution_count": 3,
   "id": "e7e3ca8b-9906-4c2c-9cb9-82382ce8f717",
   "metadata": {},
   "outputs": [],
   "source": [
    "import pandas as pd"
   ]
  },
  {
   "cell_type": "markdown",
   "id": "ed420c70-569c-45e3-b687-114303143b9b",
   "metadata": {},
   "source": [
    "___"
   ]
  },
  {
   "cell_type": "markdown",
   "id": "edaac4f8-1a82-44b7-bed6-7ab3b7822d3e",
   "metadata": {},
   "source": [
    "## Документация"
   ]
  },
  {
   "cell_type": "markdown",
   "id": "26ba7ba6-7145-4178-b8fb-e2addaf42836",
   "metadata": {},
   "source": [
    "### train.csv\n",
    "<div style=\"text-align: center; font-size: 32px\">Описание колонок</div>\n",
    "\n",
    "<table><thead><tr class=\"rowsep-1\"><th scope=\"col\"><strong>Переменная</strong></th><th scope=\"col\"><strong>Тип</strong></th><th scope=\"col\"><strong>Описание</strong></th></tr></thead><tbody>\n",
    "<tr><th scope=\"row\"><em>row_id</em></th><td>int64</td><td>Идентификатор строки</td></tr>\n",
    "\n",
    "<tr><th scope=\"row\"><em>timestamp</em></th><td>int64</td><td>Время в миллисекундах между этим взаимодействием с пользователем и первым завершением события от этого пользователя.</td></tr>\n",
    "\n",
    "<tr><th scope=\"row\"><em>user_id</em></th><td>int32</td><td>Идентификатор пользователя</td>></tr>\n",
    "\n",
    "<tr><th scope=\"row\"><em>content_id</em></th><td>int16</td><td>Идентификатор взаимодействия с пользователем</td></tr>\n",
    "\n",
    "<tr><th scope=\"row\"><em>content_type_id</em></th><td>int8</td><td>0, если событием был вопрос, заданный пользователю, 1, если событием был просмотр лекции пользователем</td></tr>\n",
    "\n",
    "<tr><th scope=\"row\"><em>task_container_id</em></th><td>int16</td><td>Идентификатор пакета вопросов или лекций</td></tr>\n",
    "\n",
    "<tr><th scope=\"row\"><em>user_answer</em></th><td>int8</td><td>Ответ пользователя на вопрос, если таковой имеется. Для лекций прочтите -1 как ноль</td></tr>\n",
    "\n",
    "<tr><th scope=\"row\"><em>answered_correctly</em></th><td>int8</td><td> если пользователь ответил правильно. Для лекций прочтите -1 как ноль.</td></tr>\n",
    "\n",
    "<tr><th scope=\"row\"><em>prior_question_elapsed_time</em></th><td>float32</td><td>Среднее время в миллисекундах, которое потребовалось пользователю для ответа на каждый вопрос в предыдущей группе вопросов, игнорируя любые промежуточные лекции. Имеет значение NULL для первого пакета вопросов или лекции пользователя. </td></tr>\n",
    "\n",
    "<tr><th scope=\"row\"><em>prior_question_had_explanation</em></th><td>bool</td><td>Увидел ли пользователь объяснение и правильный ответ(ы) после ответа на предыдущий пакет вопросов, игнорируя любые лекции между ними. Значение распространяется на один пакет вопросов и является нулевым для первого пакета вопросов или лекции пользователя. </td></tr>\n",
    "\n",
    "</tbody></table>\n",
    "\n"
   ]
  },
  {
   "cell_type": "markdown",
   "id": "ae98e22d-3b7a-4227-9f8b-28f2687017bf",
   "metadata": {},
   "source": [
    "___"
   ]
  },
  {
   "cell_type": "markdown",
   "id": "3b8295b2-4f06-44b1-871c-a0ce6d260f39",
   "metadata": {},
   "source": [
    "### questions.csv\n",
    "<div style=\"text-align: center; font-size: 32px\">Описание колонок</div>\n",
    "\n",
    "<table><thead><tr class=\"rowsep-1\"><th scope=\"col\"><strong>Переменная</strong></th><th scope=\"col\"><strong>Тип</strong></th><th scope=\"col\"><strong>Описание</strong></th></tr></thead><tbody>\n",
    "\n",
    "\n",
    "<tr><th scope=\"row\"><em>question_id</em></th><td>int64</td><td>Внешний ключ для столбца content_id тренировки/теста, когда тип контента — вопрос (0).</td></tr>\n",
    "\n",
    "<tr><th scope=\"row\"><em>bundle_id</em></th><td>int64</td><td>Код, для которого вопросы подаются вместе</td></tr>\n",
    "\n",
    "<tr><th scope=\"row\"><em>correct_answer</em></th><td>int64</td><td>Ответ на вопрос. Можно сравнить со столбцом train user_answer, чтобы проверить, был ли прав пользователь</td></tr>\n",
    "\n",
    "<tr><th scope=\"row\"><em>part</em></th><td>int64</td><td>Соответствующий раздел теста TOEIC</td></tr>\n",
    "\n",
    "<tr><th scope=\"row\"><em>tags</em></th><td>object</td><td>Один или несколько подробных кодов тегов для вопроса. Значение тегов не будет указано, но этих кодов достаточно для группировки вопросов.</td></tr>\n",
    "\n",
    "</tbody></table>"
   ]
  },
  {
   "cell_type": "markdown",
   "id": "176916e0-47dd-43ac-a296-28cbcd8424eb",
   "metadata": {},
   "source": [
    "___"
   ]
  },
  {
   "cell_type": "markdown",
   "id": "9907b089-6b0f-4f75-aaa5-09644a0dfc8f",
   "metadata": {},
   "source": [
    "### lectures.csv\n",
    "<div style=\"text-align: center; font-size: 32px\">Описание колонок</div>\n",
    "\n",
    "<table><thead><tr class=\"rowsep-1\"><th scope=\"col\"><strong>Переменная</strong></th><th scope=\"col\"><strong>Тип</strong></th><th scope=\"col\"><strong>Описание</strong></th></tr></thead><tbody>\n",
    "\n",
    "\n",
    "<tr><th scope=\"row\"><em>lecture_id</em></th><td>int64</td><td>Внешний ключ для столбца content_id поезда/теста, когда тип контента — лекция (1).</td></tr>\n",
    "\n",
    "<tr><th scope=\"row\"><em>part</em></th><td>int64</td><td>Код категории верхнего уровня для лекции.</td></tr>\n",
    "\n",
    "<tr><th scope=\"row\"><em>tag</em></th><td>int64</td><td>Один код тега для лекции. Значение тегов не будет указано, но этих кодов достаточно для группировки лекций</td>></tr>\n",
    "\n",
    "<tr><th scope=\"row\"><em>type_of</em></th><td>object</td><td>Краткое описание основной цели лекции.</td></tr>\n",
    "\n",
    "</tbody></table>"
   ]
  },
  {
   "cell_type": "markdown",
   "id": "cb3c1a0b-b24b-406a-a4e1-c4d83129a859",
   "metadata": {},
   "source": [
    "___"
   ]
  },
  {
   "cell_type": "markdown",
   "id": "f79b43bb-b16e-4bf4-beb2-849e9210a932",
   "metadata": {},
   "source": [
    "## Загрузка данных"
   ]
  },
  {
   "cell_type": "markdown",
   "id": "65305719-7c00-414f-a8fc-5a5f9223a6b5",
   "metadata": {},
   "source": [
    "### Тренировки"
   ]
  },
  {
   "cell_type": "code",
   "execution_count": 14,
   "id": "0a360f64-04f4-4f29-b772-d15fe79ddc55",
   "metadata": {},
   "outputs": [
    {
     "data": {
      "text/html": [
       "<div>\n",
       "<style scoped>\n",
       "    .dataframe tbody tr th:only-of-type {\n",
       "        vertical-align: middle;\n",
       "    }\n",
       "\n",
       "    .dataframe tbody tr th {\n",
       "        vertical-align: top;\n",
       "    }\n",
       "\n",
       "    .dataframe thead th {\n",
       "        text-align: right;\n",
       "    }\n",
       "</style>\n",
       "<table border=\"1\" class=\"dataframe\">\n",
       "  <thead>\n",
       "    <tr style=\"text-align: right;\">\n",
       "      <th></th>\n",
       "      <th>row_id</th>\n",
       "      <th>timestamp</th>\n",
       "      <th>user_id</th>\n",
       "      <th>content_id</th>\n",
       "      <th>content_type_id</th>\n",
       "      <th>task_container_id</th>\n",
       "      <th>user_answer</th>\n",
       "      <th>answered_correctly</th>\n",
       "      <th>prior_question_elapsed_time</th>\n",
       "      <th>prior_question_had_explanation</th>\n",
       "    </tr>\n",
       "  </thead>\n",
       "  <tbody>\n",
       "    <tr>\n",
       "      <th>0</th>\n",
       "      <td>0</td>\n",
       "      <td>0</td>\n",
       "      <td>115</td>\n",
       "      <td>5692</td>\n",
       "      <td>0</td>\n",
       "      <td>1</td>\n",
       "      <td>3</td>\n",
       "      <td>1</td>\n",
       "      <td>NaN</td>\n",
       "      <td>NaN</td>\n",
       "    </tr>\n",
       "    <tr>\n",
       "      <th>1</th>\n",
       "      <td>1</td>\n",
       "      <td>56943</td>\n",
       "      <td>115</td>\n",
       "      <td>5716</td>\n",
       "      <td>0</td>\n",
       "      <td>2</td>\n",
       "      <td>2</td>\n",
       "      <td>1</td>\n",
       "      <td>37000.0</td>\n",
       "      <td>False</td>\n",
       "    </tr>\n",
       "    <tr>\n",
       "      <th>2</th>\n",
       "      <td>2</td>\n",
       "      <td>118363</td>\n",
       "      <td>115</td>\n",
       "      <td>128</td>\n",
       "      <td>0</td>\n",
       "      <td>0</td>\n",
       "      <td>0</td>\n",
       "      <td>1</td>\n",
       "      <td>55000.0</td>\n",
       "      <td>False</td>\n",
       "    </tr>\n",
       "    <tr>\n",
       "      <th>3</th>\n",
       "      <td>3</td>\n",
       "      <td>131167</td>\n",
       "      <td>115</td>\n",
       "      <td>7860</td>\n",
       "      <td>0</td>\n",
       "      <td>3</td>\n",
       "      <td>0</td>\n",
       "      <td>1</td>\n",
       "      <td>19000.0</td>\n",
       "      <td>False</td>\n",
       "    </tr>\n",
       "    <tr>\n",
       "      <th>4</th>\n",
       "      <td>4</td>\n",
       "      <td>137965</td>\n",
       "      <td>115</td>\n",
       "      <td>7922</td>\n",
       "      <td>0</td>\n",
       "      <td>4</td>\n",
       "      <td>1</td>\n",
       "      <td>1</td>\n",
       "      <td>11000.0</td>\n",
       "      <td>False</td>\n",
       "    </tr>\n",
       "  </tbody>\n",
       "</table>\n",
       "</div>"
      ],
      "text/plain": [
       "   row_id  timestamp  user_id  content_id  content_type_id  task_container_id  \\\n",
       "0       0          0      115        5692                0                  1   \n",
       "1       1      56943      115        5716                0                  2   \n",
       "2       2     118363      115         128                0                  0   \n",
       "3       3     131167      115        7860                0                  3   \n",
       "4       4     137965      115        7922                0                  4   \n",
       "\n",
       "   user_answer  answered_correctly  prior_question_elapsed_time  \\\n",
       "0            3                   1                          NaN   \n",
       "1            2                   1                      37000.0   \n",
       "2            0                   1                      55000.0   \n",
       "3            0                   1                      19000.0   \n",
       "4            1                   1                      11000.0   \n",
       "\n",
       "  prior_question_had_explanation  \n",
       "0                            NaN  \n",
       "1                          False  \n",
       "2                          False  \n",
       "3                          False  \n",
       "4                          False  "
      ]
     },
     "execution_count": 14,
     "metadata": {},
     "output_type": "execute_result"
    }
   ],
   "source": [
    "train_df = pd.read_csv('train.csv')\n",
    "train_df.head()"
   ]
  },
  {
   "cell_type": "code",
   "execution_count": 15,
   "id": "ab3ff657-34ff-4426-9a42-9a03ba4e3d7c",
   "metadata": {},
   "outputs": [
    {
     "data": {
      "text/plain": [
       "(101230332, 10)"
      ]
     },
     "execution_count": 15,
     "metadata": {},
     "output_type": "execute_result"
    }
   ],
   "source": [
    "# Проверяем размерность таблицы\n",
    "train_df.shape"
   ]
  },
  {
   "cell_type": "code",
   "execution_count": 16,
   "id": "02375e5f-8911-4bac-93da-0e3271a3b96d",
   "metadata": {},
   "outputs": [
    {
     "name": "stdout",
     "output_type": "stream",
     "text": [
      "<class 'pandas.core.frame.DataFrame'>\n",
      "RangeIndex: 101230332 entries, 0 to 101230331\n",
      "Data columns (total 10 columns):\n",
      " #   Column                          Dtype  \n",
      "---  ------                          -----  \n",
      " 0   row_id                          int64  \n",
      " 1   timestamp                       int64  \n",
      " 2   user_id                         int64  \n",
      " 3   content_id                      int64  \n",
      " 4   content_type_id                 int64  \n",
      " 5   task_container_id               int64  \n",
      " 6   user_answer                     int64  \n",
      " 7   answered_correctly              int64  \n",
      " 8   prior_question_elapsed_time     float64\n",
      " 9   prior_question_had_explanation  object \n",
      "dtypes: float64(1), int64(8), object(1)\n",
      "memory usage: 7.5+ GB\n"
     ]
    }
   ],
   "source": [
    "# Проверяем информацию по таблице, типы, количество non-null, название столбцов и использованная память\n",
    "train_df.info()"
   ]
  },
  {
   "cell_type": "code",
   "execution_count": 43,
   "id": "391d705c-9a36-4bcd-8317-b598e986829e",
   "metadata": {},
   "outputs": [
    {
     "data": {
      "text/html": [
       "<div>\n",
       "<style scoped>\n",
       "    .dataframe tbody tr th:only-of-type {\n",
       "        vertical-align: middle;\n",
       "    }\n",
       "\n",
       "    .dataframe tbody tr th {\n",
       "        vertical-align: top;\n",
       "    }\n",
       "\n",
       "    .dataframe thead th {\n",
       "        text-align: right;\n",
       "    }\n",
       "</style>\n",
       "<table border=\"1\" class=\"dataframe\">\n",
       "  <thead>\n",
       "    <tr style=\"text-align: right;\">\n",
       "      <th></th>\n",
       "      <th>row_id</th>\n",
       "      <th>timestamp</th>\n",
       "      <th>user_id</th>\n",
       "      <th>content_id</th>\n",
       "      <th>content_type_id</th>\n",
       "      <th>task_container_id</th>\n",
       "      <th>user_answer</th>\n",
       "      <th>answered_correctly</th>\n",
       "      <th>prior_question_elapsed_time</th>\n",
       "    </tr>\n",
       "  </thead>\n",
       "  <tbody>\n",
       "    <tr>\n",
       "      <th>count</th>\n",
       "      <td>9.927130e+07</td>\n",
       "      <td>9.927130e+07</td>\n",
       "      <td>9.927130e+07</td>\n",
       "      <td>9.927130e+07</td>\n",
       "      <td>99271300.0</td>\n",
       "      <td>9.927130e+07</td>\n",
       "      <td>9.927130e+07</td>\n",
       "      <td>9.927130e+07</td>\n",
       "      <td>9.887879e+07</td>\n",
       "    </tr>\n",
       "    <tr>\n",
       "      <th>mean</th>\n",
       "      <td>5.061579e+07</td>\n",
       "      <td>7.702058e+09</td>\n",
       "      <td>1.076745e+09</td>\n",
       "      <td>4.994398e+03</td>\n",
       "      <td>0.0</td>\n",
       "      <td>9.078112e+02</td>\n",
       "      <td>1.423000e+00</td>\n",
       "      <td>6.572000e-01</td>\n",
       "      <td>2.542381e+04</td>\n",
       "    </tr>\n",
       "    <tr>\n",
       "      <th>std</th>\n",
       "      <td>2.922188e+07</td>\n",
       "      <td>1.159498e+10</td>\n",
       "      <td>6.196995e+08</td>\n",
       "      <td>3.288955e+03</td>\n",
       "      <td>0.0</td>\n",
       "      <td>1.364974e+03</td>\n",
       "      <td>1.156500e+00</td>\n",
       "      <td>4.746000e-01</td>\n",
       "      <td>1.994815e+04</td>\n",
       "    </tr>\n",
       "    <tr>\n",
       "      <th>min</th>\n",
       "      <td>0.000000e+00</td>\n",
       "      <td>0.000000e+00</td>\n",
       "      <td>1.150000e+02</td>\n",
       "      <td>0.000000e+00</td>\n",
       "      <td>0.0</td>\n",
       "      <td>0.000000e+00</td>\n",
       "      <td>0.000000e+00</td>\n",
       "      <td>0.000000e+00</td>\n",
       "      <td>0.000000e+00</td>\n",
       "    </tr>\n",
       "    <tr>\n",
       "      <th>25%</th>\n",
       "      <td>2.530836e+07</td>\n",
       "      <td>5.195280e+08</td>\n",
       "      <td>5.408370e+08</td>\n",
       "      <td>2.016000e+03</td>\n",
       "      <td>0.0</td>\n",
       "      <td>1.030000e+02</td>\n",
       "      <td>0.000000e+00</td>\n",
       "      <td>0.000000e+00</td>\n",
       "      <td>1.600000e+04</td>\n",
       "    </tr>\n",
       "    <tr>\n",
       "      <th>50%</th>\n",
       "      <td>5.061649e+07</td>\n",
       "      <td>2.669611e+09</td>\n",
       "      <td>1.071807e+09</td>\n",
       "      <td>4.984000e+03</td>\n",
       "      <td>0.0</td>\n",
       "      <td>3.810000e+02</td>\n",
       "      <td>1.000000e+00</td>\n",
       "      <td>1.000000e+00</td>\n",
       "      <td>2.100000e+04</td>\n",
       "    </tr>\n",
       "    <tr>\n",
       "      <th>75%</th>\n",
       "      <td>7.592082e+07</td>\n",
       "      <td>9.929147e+09</td>\n",
       "      <td>1.615742e+09</td>\n",
       "      <td>7.218000e+03</td>\n",
       "      <td>0.0</td>\n",
       "      <td>1.099000e+03</td>\n",
       "      <td>3.000000e+00</td>\n",
       "      <td>1.000000e+00</td>\n",
       "      <td>2.966600e+04</td>\n",
       "    </tr>\n",
       "    <tr>\n",
       "      <th>max</th>\n",
       "      <td>1.012303e+08</td>\n",
       "      <td>8.742577e+10</td>\n",
       "      <td>2.147483e+09</td>\n",
       "      <td>1.352200e+04</td>\n",
       "      <td>0.0</td>\n",
       "      <td>9.999000e+03</td>\n",
       "      <td>3.000000e+00</td>\n",
       "      <td>1.000000e+00</td>\n",
       "      <td>3.000000e+05</td>\n",
       "    </tr>\n",
       "  </tbody>\n",
       "</table>\n",
       "</div>"
      ],
      "text/plain": [
       "             row_id     timestamp       user_id    content_id  \\\n",
       "count  9.927130e+07  9.927130e+07  9.927130e+07  9.927130e+07   \n",
       "mean   5.061579e+07  7.702058e+09  1.076745e+09  4.994398e+03   \n",
       "std    2.922188e+07  1.159498e+10  6.196995e+08  3.288955e+03   \n",
       "min    0.000000e+00  0.000000e+00  1.150000e+02  0.000000e+00   \n",
       "25%    2.530836e+07  5.195280e+08  5.408370e+08  2.016000e+03   \n",
       "50%    5.061649e+07  2.669611e+09  1.071807e+09  4.984000e+03   \n",
       "75%    7.592082e+07  9.929147e+09  1.615742e+09  7.218000e+03   \n",
       "max    1.012303e+08  8.742577e+10  2.147483e+09  1.352200e+04   \n",
       "\n",
       "       content_type_id  task_container_id   user_answer  answered_correctly  \\\n",
       "count       99271300.0       9.927130e+07  9.927130e+07        9.927130e+07   \n",
       "mean               0.0       9.078112e+02  1.423000e+00        6.572000e-01   \n",
       "std                0.0       1.364974e+03  1.156500e+00        4.746000e-01   \n",
       "min                0.0       0.000000e+00  0.000000e+00        0.000000e+00   \n",
       "25%                0.0       1.030000e+02  0.000000e+00        0.000000e+00   \n",
       "50%                0.0       3.810000e+02  1.000000e+00        1.000000e+00   \n",
       "75%                0.0       1.099000e+03  3.000000e+00        1.000000e+00   \n",
       "max                0.0       9.999000e+03  3.000000e+00        1.000000e+00   \n",
       "\n",
       "       prior_question_elapsed_time  \n",
       "count                 9.887879e+07  \n",
       "mean                  2.542381e+04  \n",
       "std                   1.994815e+04  \n",
       "min                   0.000000e+00  \n",
       "25%                   1.600000e+04  \n",
       "50%                   2.100000e+04  \n",
       "75%                   2.966600e+04  \n",
       "max                   3.000000e+05  "
      ]
     },
     "execution_count": 43,
     "metadata": {},
     "output_type": "execute_result"
    }
   ],
   "source": [
    "# Проверяем основные статистические характеристики\n",
    "train_df.describe()"
   ]
  },
  {
   "cell_type": "code",
   "execution_count": 18,
   "id": "1ec540f5-355b-47d0-8ecc-2a40cac17bc2",
   "metadata": {},
   "outputs": [
    {
     "data": {
      "text/html": [
       "<div>\n",
       "<style scoped>\n",
       "    .dataframe tbody tr th:only-of-type {\n",
       "        vertical-align: middle;\n",
       "    }\n",
       "\n",
       "    .dataframe tbody tr th {\n",
       "        vertical-align: top;\n",
       "    }\n",
       "\n",
       "    .dataframe thead th {\n",
       "        text-align: right;\n",
       "    }\n",
       "</style>\n",
       "<table border=\"1\" class=\"dataframe\">\n",
       "  <thead>\n",
       "    <tr style=\"text-align: right;\">\n",
       "      <th></th>\n",
       "      <th>prior_question_had_explanation</th>\n",
       "    </tr>\n",
       "  </thead>\n",
       "  <tbody>\n",
       "    <tr>\n",
       "      <th>count</th>\n",
       "      <td>100837826</td>\n",
       "    </tr>\n",
       "    <tr>\n",
       "      <th>unique</th>\n",
       "      <td>2</td>\n",
       "    </tr>\n",
       "    <tr>\n",
       "      <th>top</th>\n",
       "      <td>True</td>\n",
       "    </tr>\n",
       "    <tr>\n",
       "      <th>freq</th>\n",
       "      <td>89685560</td>\n",
       "    </tr>\n",
       "  </tbody>\n",
       "</table>\n",
       "</div>"
      ],
      "text/plain": [
       "       prior_question_had_explanation\n",
       "count                       100837826\n",
       "unique                              2\n",
       "top                              True\n",
       "freq                         89685560"
      ]
     },
     "execution_count": 18,
     "metadata": {},
     "output_type": "execute_result"
    }
   ],
   "source": [
    "# Проверяем основные статистические характеристики для объектов\n",
    "train_df.describe(include=['object'])"
   ]
  },
  {
   "cell_type": "markdown",
   "id": "b58b7155-1e8a-415b-9f19-688ec62b0dff",
   "metadata": {},
   "source": [
    "### Вопросы"
   ]
  },
  {
   "cell_type": "code",
   "execution_count": 20,
   "id": "f66603f0-10f4-4981-a4b3-fdd17aecefd5",
   "metadata": {},
   "outputs": [
    {
     "data": {
      "text/html": [
       "<div>\n",
       "<style scoped>\n",
       "    .dataframe tbody tr th:only-of-type {\n",
       "        vertical-align: middle;\n",
       "    }\n",
       "\n",
       "    .dataframe tbody tr th {\n",
       "        vertical-align: top;\n",
       "    }\n",
       "\n",
       "    .dataframe thead th {\n",
       "        text-align: right;\n",
       "    }\n",
       "</style>\n",
       "<table border=\"1\" class=\"dataframe\">\n",
       "  <thead>\n",
       "    <tr style=\"text-align: right;\">\n",
       "      <th></th>\n",
       "      <th>question_id</th>\n",
       "      <th>bundle_id</th>\n",
       "      <th>correct_answer</th>\n",
       "      <th>part</th>\n",
       "      <th>tags</th>\n",
       "    </tr>\n",
       "  </thead>\n",
       "  <tbody>\n",
       "    <tr>\n",
       "      <th>0</th>\n",
       "      <td>0</td>\n",
       "      <td>0</td>\n",
       "      <td>0</td>\n",
       "      <td>1</td>\n",
       "      <td>51 131 162 38</td>\n",
       "    </tr>\n",
       "    <tr>\n",
       "      <th>1</th>\n",
       "      <td>1</td>\n",
       "      <td>1</td>\n",
       "      <td>1</td>\n",
       "      <td>1</td>\n",
       "      <td>131 36 81</td>\n",
       "    </tr>\n",
       "    <tr>\n",
       "      <th>2</th>\n",
       "      <td>2</td>\n",
       "      <td>2</td>\n",
       "      <td>0</td>\n",
       "      <td>1</td>\n",
       "      <td>131 101 162 92</td>\n",
       "    </tr>\n",
       "    <tr>\n",
       "      <th>3</th>\n",
       "      <td>3</td>\n",
       "      <td>3</td>\n",
       "      <td>0</td>\n",
       "      <td>1</td>\n",
       "      <td>131 149 162 29</td>\n",
       "    </tr>\n",
       "    <tr>\n",
       "      <th>4</th>\n",
       "      <td>4</td>\n",
       "      <td>4</td>\n",
       "      <td>3</td>\n",
       "      <td>1</td>\n",
       "      <td>131 5 162 38</td>\n",
       "    </tr>\n",
       "  </tbody>\n",
       "</table>\n",
       "</div>"
      ],
      "text/plain": [
       "   question_id  bundle_id  correct_answer  part            tags\n",
       "0            0          0               0     1   51 131 162 38\n",
       "1            1          1               1     1       131 36 81\n",
       "2            2          2               0     1  131 101 162 92\n",
       "3            3          3               0     1  131 149 162 29\n",
       "4            4          4               3     1    131 5 162 38"
      ]
     },
     "execution_count": 20,
     "metadata": {},
     "output_type": "execute_result"
    }
   ],
   "source": [
    "questions_df = pd.read_csv('questions.csv')\n",
    "questions_df.head()"
   ]
  },
  {
   "cell_type": "code",
   "execution_count": 21,
   "id": "5e78b61a-a805-46f1-889d-ff03d597bd21",
   "metadata": {},
   "outputs": [
    {
     "data": {
      "text/plain": [
       "(13523, 5)"
      ]
     },
     "execution_count": 21,
     "metadata": {},
     "output_type": "execute_result"
    }
   ],
   "source": [
    "# Проверяем размерность таблицы\n",
    "questions_df.shape"
   ]
  },
  {
   "cell_type": "code",
   "execution_count": 22,
   "id": "5c33b917-9ede-41a7-b140-7640b471b804",
   "metadata": {},
   "outputs": [
    {
     "name": "stdout",
     "output_type": "stream",
     "text": [
      "<class 'pandas.core.frame.DataFrame'>\n",
      "RangeIndex: 13523 entries, 0 to 13522\n",
      "Data columns (total 5 columns):\n",
      " #   Column          Non-Null Count  Dtype \n",
      "---  ------          --------------  ----- \n",
      " 0   question_id     13523 non-null  int64 \n",
      " 1   bundle_id       13523 non-null  int64 \n",
      " 2   correct_answer  13523 non-null  int64 \n",
      " 3   part            13523 non-null  int64 \n",
      " 4   tags            13522 non-null  object\n",
      "dtypes: int64(4), object(1)\n",
      "memory usage: 528.4+ KB\n"
     ]
    }
   ],
   "source": [
    "# Проверяем информацию по таблице, типы, количество non-null, название столбцов и использованная память\n",
    "questions_df.info()"
   ]
  },
  {
   "cell_type": "code",
   "execution_count": 23,
   "id": "b2d849a9-2018-4611-8804-75f1fded83fa",
   "metadata": {},
   "outputs": [
    {
     "data": {
      "text/html": [
       "<div>\n",
       "<style scoped>\n",
       "    .dataframe tbody tr th:only-of-type {\n",
       "        vertical-align: middle;\n",
       "    }\n",
       "\n",
       "    .dataframe tbody tr th {\n",
       "        vertical-align: top;\n",
       "    }\n",
       "\n",
       "    .dataframe thead th {\n",
       "        text-align: right;\n",
       "    }\n",
       "</style>\n",
       "<table border=\"1\" class=\"dataframe\">\n",
       "  <thead>\n",
       "    <tr style=\"text-align: right;\">\n",
       "      <th></th>\n",
       "      <th>question_id</th>\n",
       "      <th>bundle_id</th>\n",
       "      <th>correct_answer</th>\n",
       "      <th>part</th>\n",
       "    </tr>\n",
       "  </thead>\n",
       "  <tbody>\n",
       "    <tr>\n",
       "      <th>count</th>\n",
       "      <td>13523.00000</td>\n",
       "      <td>13523.000000</td>\n",
       "      <td>13523.000000</td>\n",
       "      <td>13523.000000</td>\n",
       "    </tr>\n",
       "    <tr>\n",
       "      <th>mean</th>\n",
       "      <td>6761.00000</td>\n",
       "      <td>6760.510907</td>\n",
       "      <td>1.455298</td>\n",
       "      <td>4.264956</td>\n",
       "    </tr>\n",
       "    <tr>\n",
       "      <th>std</th>\n",
       "      <td>3903.89818</td>\n",
       "      <td>3903.857783</td>\n",
       "      <td>1.149707</td>\n",
       "      <td>1.652553</td>\n",
       "    </tr>\n",
       "    <tr>\n",
       "      <th>min</th>\n",
       "      <td>0.00000</td>\n",
       "      <td>0.000000</td>\n",
       "      <td>0.000000</td>\n",
       "      <td>1.000000</td>\n",
       "    </tr>\n",
       "    <tr>\n",
       "      <th>25%</th>\n",
       "      <td>3380.50000</td>\n",
       "      <td>3379.500000</td>\n",
       "      <td>0.000000</td>\n",
       "      <td>3.000000</td>\n",
       "    </tr>\n",
       "    <tr>\n",
       "      <th>50%</th>\n",
       "      <td>6761.00000</td>\n",
       "      <td>6761.000000</td>\n",
       "      <td>1.000000</td>\n",
       "      <td>5.000000</td>\n",
       "    </tr>\n",
       "    <tr>\n",
       "      <th>75%</th>\n",
       "      <td>10141.50000</td>\n",
       "      <td>10140.000000</td>\n",
       "      <td>3.000000</td>\n",
       "      <td>5.000000</td>\n",
       "    </tr>\n",
       "    <tr>\n",
       "      <th>max</th>\n",
       "      <td>13522.00000</td>\n",
       "      <td>13522.000000</td>\n",
       "      <td>3.000000</td>\n",
       "      <td>7.000000</td>\n",
       "    </tr>\n",
       "  </tbody>\n",
       "</table>\n",
       "</div>"
      ],
      "text/plain": [
       "       question_id     bundle_id  correct_answer          part\n",
       "count  13523.00000  13523.000000    13523.000000  13523.000000\n",
       "mean    6761.00000   6760.510907        1.455298      4.264956\n",
       "std     3903.89818   3903.857783        1.149707      1.652553\n",
       "min        0.00000      0.000000        0.000000      1.000000\n",
       "25%     3380.50000   3379.500000        0.000000      3.000000\n",
       "50%     6761.00000   6761.000000        1.000000      5.000000\n",
       "75%    10141.50000  10140.000000        3.000000      5.000000\n",
       "max    13522.00000  13522.000000        3.000000      7.000000"
      ]
     },
     "execution_count": 23,
     "metadata": {},
     "output_type": "execute_result"
    }
   ],
   "source": [
    "# Проверяем основные статистические характеристики \n",
    "questions_df.describe()"
   ]
  },
  {
   "cell_type": "code",
   "execution_count": 24,
   "id": "da742c5b-f5bf-41bd-82e1-2128796c4826",
   "metadata": {},
   "outputs": [
    {
     "data": {
      "text/html": [
       "<div>\n",
       "<style scoped>\n",
       "    .dataframe tbody tr th:only-of-type {\n",
       "        vertical-align: middle;\n",
       "    }\n",
       "\n",
       "    .dataframe tbody tr th {\n",
       "        vertical-align: top;\n",
       "    }\n",
       "\n",
       "    .dataframe thead th {\n",
       "        text-align: right;\n",
       "    }\n",
       "</style>\n",
       "<table border=\"1\" class=\"dataframe\">\n",
       "  <thead>\n",
       "    <tr style=\"text-align: right;\">\n",
       "      <th></th>\n",
       "      <th>tags</th>\n",
       "    </tr>\n",
       "  </thead>\n",
       "  <tbody>\n",
       "    <tr>\n",
       "      <th>count</th>\n",
       "      <td>13522</td>\n",
       "    </tr>\n",
       "    <tr>\n",
       "      <th>unique</th>\n",
       "      <td>1519</td>\n",
       "    </tr>\n",
       "    <tr>\n",
       "      <th>top</th>\n",
       "      <td>8</td>\n",
       "    </tr>\n",
       "    <tr>\n",
       "      <th>freq</th>\n",
       "      <td>738</td>\n",
       "    </tr>\n",
       "  </tbody>\n",
       "</table>\n",
       "</div>"
      ],
      "text/plain": [
       "         tags\n",
       "count   13522\n",
       "unique   1519\n",
       "top         8\n",
       "freq      738"
      ]
     },
     "execution_count": 24,
     "metadata": {},
     "output_type": "execute_result"
    }
   ],
   "source": [
    "# Проверяем основные статистические характеристики для объектов\n",
    "questions_df.describe(include=['object'])"
   ]
  },
  {
   "cell_type": "markdown",
   "id": "7b47ef80-069a-421f-9b34-c3d39c6185a9",
   "metadata": {},
   "source": [
    "___"
   ]
  },
  {
   "cell_type": "markdown",
   "id": "7b0b4fff-b563-4fd5-9268-f39e05583048",
   "metadata": {
    "jp-MarkdownHeadingCollapsed": true
   },
   "source": [
    "### Лекции"
   ]
  },
  {
   "cell_type": "code",
   "execution_count": 27,
   "id": "561ae0c4-27d8-4e26-b7cd-a11fb63dbc71",
   "metadata": {},
   "outputs": [
    {
     "data": {
      "text/html": [
       "<div>\n",
       "<style scoped>\n",
       "    .dataframe tbody tr th:only-of-type {\n",
       "        vertical-align: middle;\n",
       "    }\n",
       "\n",
       "    .dataframe tbody tr th {\n",
       "        vertical-align: top;\n",
       "    }\n",
       "\n",
       "    .dataframe thead th {\n",
       "        text-align: right;\n",
       "    }\n",
       "</style>\n",
       "<table border=\"1\" class=\"dataframe\">\n",
       "  <thead>\n",
       "    <tr style=\"text-align: right;\">\n",
       "      <th></th>\n",
       "      <th>lecture_id</th>\n",
       "      <th>tag</th>\n",
       "      <th>part</th>\n",
       "      <th>type_of</th>\n",
       "    </tr>\n",
       "  </thead>\n",
       "  <tbody>\n",
       "    <tr>\n",
       "      <th>0</th>\n",
       "      <td>89</td>\n",
       "      <td>159</td>\n",
       "      <td>5</td>\n",
       "      <td>concept</td>\n",
       "    </tr>\n",
       "    <tr>\n",
       "      <th>1</th>\n",
       "      <td>100</td>\n",
       "      <td>70</td>\n",
       "      <td>1</td>\n",
       "      <td>concept</td>\n",
       "    </tr>\n",
       "    <tr>\n",
       "      <th>2</th>\n",
       "      <td>185</td>\n",
       "      <td>45</td>\n",
       "      <td>6</td>\n",
       "      <td>concept</td>\n",
       "    </tr>\n",
       "    <tr>\n",
       "      <th>3</th>\n",
       "      <td>192</td>\n",
       "      <td>79</td>\n",
       "      <td>5</td>\n",
       "      <td>solving question</td>\n",
       "    </tr>\n",
       "    <tr>\n",
       "      <th>4</th>\n",
       "      <td>317</td>\n",
       "      <td>156</td>\n",
       "      <td>5</td>\n",
       "      <td>solving question</td>\n",
       "    </tr>\n",
       "  </tbody>\n",
       "</table>\n",
       "</div>"
      ],
      "text/plain": [
       "   lecture_id  tag  part           type_of\n",
       "0          89  159     5           concept\n",
       "1         100   70     1           concept\n",
       "2         185   45     6           concept\n",
       "3         192   79     5  solving question\n",
       "4         317  156     5  solving question"
      ]
     },
     "execution_count": 27,
     "metadata": {},
     "output_type": "execute_result"
    }
   ],
   "source": [
    "lectures_df = pd.read_csv('lectures.csv')\n",
    "lectures_df.head()"
   ]
  },
  {
   "cell_type": "code",
   "execution_count": 28,
   "id": "e2321b3e-7924-4d95-9470-58495cf0a98e",
   "metadata": {},
   "outputs": [
    {
     "data": {
      "text/plain": [
       "(418, 4)"
      ]
     },
     "execution_count": 28,
     "metadata": {},
     "output_type": "execute_result"
    }
   ],
   "source": [
    "# Проверяем размерность таблицы\n",
    "lectures_df.shape"
   ]
  },
  {
   "cell_type": "code",
   "execution_count": 29,
   "id": "b75ca0f0-e8e6-41a0-b0cc-ea68c7902234",
   "metadata": {},
   "outputs": [
    {
     "name": "stdout",
     "output_type": "stream",
     "text": [
      "<class 'pandas.core.frame.DataFrame'>\n",
      "RangeIndex: 418 entries, 0 to 417\n",
      "Data columns (total 4 columns):\n",
      " #   Column      Non-Null Count  Dtype \n",
      "---  ------      --------------  ----- \n",
      " 0   lecture_id  418 non-null    int64 \n",
      " 1   tag         418 non-null    int64 \n",
      " 2   part        418 non-null    int64 \n",
      " 3   type_of     418 non-null    object\n",
      "dtypes: int64(3), object(1)\n",
      "memory usage: 13.2+ KB\n"
     ]
    }
   ],
   "source": [
    "# Проверяем информацию по таблице, типы, количество non-null, название столбцов и использованная память\n",
    "lectures_df.info()"
   ]
  },
  {
   "cell_type": "code",
   "execution_count": 30,
   "id": "143a5629-afe1-4fe5-ad21-c26d97c87db7",
   "metadata": {},
   "outputs": [
    {
     "data": {
      "text/html": [
       "<div>\n",
       "<style scoped>\n",
       "    .dataframe tbody tr th:only-of-type {\n",
       "        vertical-align: middle;\n",
       "    }\n",
       "\n",
       "    .dataframe tbody tr th {\n",
       "        vertical-align: top;\n",
       "    }\n",
       "\n",
       "    .dataframe thead th {\n",
       "        text-align: right;\n",
       "    }\n",
       "</style>\n",
       "<table border=\"1\" class=\"dataframe\">\n",
       "  <thead>\n",
       "    <tr style=\"text-align: right;\">\n",
       "      <th></th>\n",
       "      <th>lecture_id</th>\n",
       "      <th>tag</th>\n",
       "      <th>part</th>\n",
       "    </tr>\n",
       "  </thead>\n",
       "  <tbody>\n",
       "    <tr>\n",
       "      <th>count</th>\n",
       "      <td>418.000000</td>\n",
       "      <td>418.000000</td>\n",
       "      <td>418.000000</td>\n",
       "    </tr>\n",
       "    <tr>\n",
       "      <th>mean</th>\n",
       "      <td>16983.401914</td>\n",
       "      <td>94.480861</td>\n",
       "      <td>4.267943</td>\n",
       "    </tr>\n",
       "    <tr>\n",
       "      <th>std</th>\n",
       "      <td>9426.164660</td>\n",
       "      <td>53.586487</td>\n",
       "      <td>1.872424</td>\n",
       "    </tr>\n",
       "    <tr>\n",
       "      <th>min</th>\n",
       "      <td>89.000000</td>\n",
       "      <td>0.000000</td>\n",
       "      <td>1.000000</td>\n",
       "    </tr>\n",
       "    <tr>\n",
       "      <th>25%</th>\n",
       "      <td>9026.250000</td>\n",
       "      <td>50.250000</td>\n",
       "      <td>2.000000</td>\n",
       "    </tr>\n",
       "    <tr>\n",
       "      <th>50%</th>\n",
       "      <td>17161.500000</td>\n",
       "      <td>94.500000</td>\n",
       "      <td>5.000000</td>\n",
       "    </tr>\n",
       "    <tr>\n",
       "      <th>75%</th>\n",
       "      <td>24906.250000</td>\n",
       "      <td>140.000000</td>\n",
       "      <td>6.000000</td>\n",
       "    </tr>\n",
       "    <tr>\n",
       "      <th>max</th>\n",
       "      <td>32736.000000</td>\n",
       "      <td>187.000000</td>\n",
       "      <td>7.000000</td>\n",
       "    </tr>\n",
       "  </tbody>\n",
       "</table>\n",
       "</div>"
      ],
      "text/plain": [
       "         lecture_id         tag        part\n",
       "count    418.000000  418.000000  418.000000\n",
       "mean   16983.401914   94.480861    4.267943\n",
       "std     9426.164660   53.586487    1.872424\n",
       "min       89.000000    0.000000    1.000000\n",
       "25%     9026.250000   50.250000    2.000000\n",
       "50%    17161.500000   94.500000    5.000000\n",
       "75%    24906.250000  140.000000    6.000000\n",
       "max    32736.000000  187.000000    7.000000"
      ]
     },
     "execution_count": 30,
     "metadata": {},
     "output_type": "execute_result"
    }
   ],
   "source": [
    "# Проверяем основные статистические характеристики \n",
    "lectures_df.describe()"
   ]
  },
  {
   "cell_type": "code",
   "execution_count": 31,
   "id": "02adfc31-c926-413b-9465-5861b7778fa7",
   "metadata": {},
   "outputs": [
    {
     "data": {
      "text/html": [
       "<div>\n",
       "<style scoped>\n",
       "    .dataframe tbody tr th:only-of-type {\n",
       "        vertical-align: middle;\n",
       "    }\n",
       "\n",
       "    .dataframe tbody tr th {\n",
       "        vertical-align: top;\n",
       "    }\n",
       "\n",
       "    .dataframe thead th {\n",
       "        text-align: right;\n",
       "    }\n",
       "</style>\n",
       "<table border=\"1\" class=\"dataframe\">\n",
       "  <thead>\n",
       "    <tr style=\"text-align: right;\">\n",
       "      <th></th>\n",
       "      <th>type_of</th>\n",
       "    </tr>\n",
       "  </thead>\n",
       "  <tbody>\n",
       "    <tr>\n",
       "      <th>count</th>\n",
       "      <td>418</td>\n",
       "    </tr>\n",
       "    <tr>\n",
       "      <th>unique</th>\n",
       "      <td>4</td>\n",
       "    </tr>\n",
       "    <tr>\n",
       "      <th>top</th>\n",
       "      <td>concept</td>\n",
       "    </tr>\n",
       "    <tr>\n",
       "      <th>freq</th>\n",
       "      <td>222</td>\n",
       "    </tr>\n",
       "  </tbody>\n",
       "</table>\n",
       "</div>"
      ],
      "text/plain": [
       "        type_of\n",
       "count       418\n",
       "unique        4\n",
       "top     concept\n",
       "freq        222"
      ]
     },
     "execution_count": 31,
     "metadata": {},
     "output_type": "execute_result"
    }
   ],
   "source": [
    "# Проверяем основные статистические характеристики для объектов\n",
    "lectures_df.describe(include=['object'])"
   ]
  },
  {
   "cell_type": "markdown",
   "id": "107b83ae-f4c3-4adb-a354-95ff0e2f48ac",
   "metadata": {},
   "source": [
    "___"
   ]
  },
  {
   "cell_type": "markdown",
   "id": "24c4400b-87bd-4c18-926c-e0507c8bad13",
   "metadata": {},
   "source": [
    "### Анализ данных"
   ]
  },
  {
   "cell_type": "markdown",
   "id": "a0462b41-987e-40ba-b36c-95c1debad51d",
   "metadata": {},
   "source": [
    "### Данные по тренирочным тестам"
   ]
  },
  {
   "cell_type": "code",
   "execution_count": 34,
   "id": "2ca3c4e3-bfe9-4603-8f59-0f436a0870bf",
   "metadata": {},
   "outputs": [
    {
     "data": {
      "text/plain": [
       "101230332"
      ]
     },
     "execution_count": 34,
     "metadata": {},
     "output_type": "execute_result"
    }
   ],
   "source": [
    "# Получаем общее количество ответов в массиве данных\n",
    "total_amount_answers = train_df.shape[0]\n",
    "total_amount_answers"
   ]
  },
  {
   "cell_type": "code",
   "execution_count": 35,
   "id": "d63439ea-e3ee-429e-b776-df4740ceb5d1",
   "metadata": {},
   "outputs": [
    {
     "name": "stdout",
     "output_type": "stream",
     "text": [
      "Количество ответов на лекции составляет 1959032 из 101230332 или 0.019 %\n"
     ]
    }
   ],
   "source": [
    "# Получаем общее количество ответов, которые были связанны с лекцией\n",
    "count_answers_on_lections = train_df[train_df['user_answer'] == -1].shape[0]\n",
    "print(f\"Количество ответов на лекции составляет {count_answers_on_lections} из {total_amount_answers} или {round(count_answers_on_lections / total_amount_answers,3) } %\")"
   ]
  },
  {
   "cell_type": "code",
   "execution_count": 36,
   "id": "6ece1d11-cd09-4f2c-8ae6-75432b745d21",
   "metadata": {},
   "outputs": [],
   "source": [
    "# Убираем все строки, которые не связаны с тестированием\n",
    "train_df = train_df[train_df['user_answer'] != -1]"
   ]
  },
  {
   "cell_type": "code",
   "execution_count": 37,
   "id": "f3687eb4-1f8b-46a4-b246-e60f92a9ea69",
   "metadata": {},
   "outputs": [
    {
     "name": "stdout",
     "output_type": "stream",
     "text": [
      "Количество строк после сокращения данных строк, связанной с лекцией 99271300\n"
     ]
    }
   ],
   "source": [
    "# Выводим значение с актуальным количеством строк\n",
    "total_amount_answers = train_df.shape[0]\n",
    "print(f\"Количество строк после сокращения данных строк, связанной с лекцией {total_amount_answers}\")"
   ]
  },
  {
   "cell_type": "code",
   "execution_count": 38,
   "id": "236f7027-eccd-44e5-a82d-2455e51f778a",
   "metadata": {},
   "outputs": [
    {
     "name": "stdout",
     "output_type": "stream",
     "text": [
      "Общее количество правильных ответов состовляет 65244627 из 99271300 или 0.6572 %\n"
     ]
    }
   ],
   "source": [
    "# Получаем количество правильных ответов\n",
    "count_correctly_answers = train_df[train_df['answered_correctly'] == 1].shape[0]\n",
    "print(f\"Общее количество правильных ответов состовляет {count_correctly_answers} из {total_amount_answers} или {round(count_correctly_answers / total_amount_answers,4)} %\")"
   ]
  },
  {
   "cell_type": "markdown",
   "id": "a72941ff-7236-49a4-93e8-de3058ca5970",
   "metadata": {},
   "source": [
    "___"
   ]
  }
 ],
 "metadata": {
  "kernelspec": {
   "display_name": "Python 3 (ipykernel)",
   "language": "python",
   "name": "python3"
  },
  "language_info": {
   "codemirror_mode": {
    "name": "ipython",
    "version": 3
   },
   "file_extension": ".py",
   "mimetype": "text/x-python",
   "name": "python",
   "nbconvert_exporter": "python",
   "pygments_lexer": "ipython3",
   "version": "3.11.7"
  }
 },
 "nbformat": 4,
 "nbformat_minor": 5
}
