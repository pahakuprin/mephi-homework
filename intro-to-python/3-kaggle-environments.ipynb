{
 "cells": [
  {
   "cell_type": "code",
   "execution_count": 3,
   "metadata": {
    "colab": {
     "base_uri": "https://localhost:8080/"
    },
    "id": "MXXTuy_o0sjk",
    "outputId": "8b0d6a8e-f926-4843-c63f-7e1ef1482776"
   },
   "outputs": [
    {
     "name": "stdout",
     "output_type": "stream",
     "text": [
      "\n",
      "\u001b[1m[\u001b[0m\u001b[34;49mnotice\u001b[0m\u001b[1;39;49m]\u001b[0m\u001b[39;49m A new release of pip is available: \u001b[0m\u001b[31;49m24.2\u001b[0m\u001b[39;49m -> \u001b[0m\u001b[32;49m24.3.1\u001b[0m\n",
      "\u001b[1m[\u001b[0m\u001b[34;49mnotice\u001b[0m\u001b[1;39;49m]\u001b[0m\u001b[39;49m To update, run: \u001b[0m\u001b[32;49mpython3.11 -m pip install --upgrade pip\u001b[0m\n",
      "Note: you may need to restart the kernel to use updated packages.\n"
     ]
    }
   ],
   "source": [
    "%pip install -q -U kaggle_environments"
   ]
  },
  {
   "cell_type": "code",
   "execution_count": 4,
   "metadata": {
    "id": "yz23vWHD0wcj"
   },
   "outputs": [
    {
     "name": "stderr",
     "output_type": "stream",
     "text": [
      "2024-12-08 12:59:49.155835: I tensorflow/core/platform/cpu_feature_guard.cc:210] This TensorFlow binary is optimized to use available CPU instructions in performance-critical operations.\n",
      "To enable the following instructions: AVX2 FMA, in other operations, rebuild TensorFlow with the appropriate compiler flags.\n"
     ]
    },
    {
     "name": "stdout",
     "output_type": "stream",
     "text": [
      "No pygame installed, ignoring import\n"
     ]
    }
   ],
   "source": [
    "import random\n",
    "import math\n",
    "\n",
    "from kaggle_environments import make"
   ]
  },
  {
   "cell_type": "markdown",
   "metadata": {
    "id": "0kuo6IOxiRub"
   },
   "source": [
    "Опишем поведение агента, всегда играющего \"камень\" - это значение 0"
   ]
  },
  {
   "cell_type": "code",
   "execution_count": 5,
   "metadata": {
    "id": "bqTqV7B92rJ6"
   },
   "outputs": [],
   "source": [
    "def rock_agent():\n",
    "  return 0"
   ]
  },
  {
   "cell_type": "markdown",
   "metadata": {
    "id": "EMOFz1eYznbf"
   },
   "source": [
    "Опишем поведение агента, всегда играющего \"бумагу\" - это значение 1"
   ]
  },
  {
   "cell_type": "code",
   "execution_count": 6,
   "metadata": {
    "id": "VdFvyLfXzir5"
   },
   "outputs": [],
   "source": [
    "def paper_agent():\n",
    "  return 1"
   ]
  },
  {
   "cell_type": "markdown",
   "metadata": {
    "id": "AUtVgAlfzs07"
   },
   "source": [
    "Опишем поведение агента, всегда играющего \"ножницы\" - это значение 2"
   ]
  },
  {
   "cell_type": "code",
   "execution_count": 7,
   "metadata": {
    "id": "rTe30dxozcR-"
   },
   "outputs": [],
   "source": [
    "def scissors_agent():\n",
    "  return 2"
   ]
  },
  {
   "cell_type": "markdown",
   "metadata": {
    "id": "et1J5hUGigeh"
   },
   "source": [
    "Опишем агента, который производит то же самое действие, что и оппонент на прошлом ходу"
   ]
  },
  {
   "cell_type": "code",
   "execution_count": 8,
   "metadata": {
    "id": "7l6Ttw6qi0jk"
   },
   "outputs": [],
   "source": [
    "def copy_agent(observation):\n",
    "  # в случае, когда предыдущий ход известен используем его\n",
    "  if observation.step > 0:\n",
    "    return observation.lastOpponentAction\n",
    "  # первый раз выбираем случайных ход\n",
    "  else:\n",
    "    return random.choice([0, 1, 2])"
   ]
  },
  {
   "cell_type": "markdown",
   "metadata": {
    "id": "ExgIpXUVjbjN"
   },
   "source": [
    "Опишем агента, который выбирает ход случайным образом"
   ]
  },
  {
   "cell_type": "code",
   "execution_count": 9,
   "metadata": {
    "id": "FC6_QWe9k3rr"
   },
   "outputs": [],
   "source": [
    "def random_agent():\n",
    "  return random.choice([0, 1, 2])"
   ]
  },
  {
   "cell_type": "markdown",
   "metadata": {
    "id": "bSPw1hLKtJ5N"
   },
   "source": [
    "Опишем агента, который выбирает ход случайным образом с предпочтением хода \"Ножницы\" - для этого присваеваеваем каждому ходу вес: 20% для \"камня\", 20% для \"бумаги\" и 60% для \"ножниц\""
   ]
  },
  {
   "cell_type": "code",
   "execution_count": 10,
   "metadata": {
    "id": "9QZBZMHmtDXN"
   },
   "outputs": [],
   "source": [
    "def weighted_random_agent():\n",
    "  return random.choices(population=[0, 1, 2], cum_weights=(10, 10, 80), k=1)[0]"
   ]
  },
  {
   "cell_type": "markdown",
   "metadata": {
    "id": "CpXrT-x41Q1r"
   },
   "source": [
    "Опишем агента, который последовательно выбирает ход по кругу: \"камень\", \"бумага\", \"ножницы\", \"камень\" и т.д."
   ]
  },
  {
   "cell_type": "code",
   "execution_count": 11,
   "metadata": {
    "id": "kupEVmRZ3_L6"
   },
   "outputs": [],
   "source": [
    "def cycling_agent(observation):\n",
    "  return [0, 1, 2][observation.step % 3]"
   ]
  },
  {
   "cell_type": "markdown",
   "metadata": {
    "id": "O7yijYuamBzS"
   },
   "source": [
    "Опишем агента, который последовательно каждые три шага выбирает новый ход по кругу"
   ]
  },
  {
   "cell_type": "code",
   "execution_count": 13,
   "metadata": {
    "id": "Fl0zQGQpmQ48"
   },
   "outputs": [],
   "source": [
    "def cycling_3_agent(observation):\n",
    "  return [0, 1, 2][(observation.step // 3) % 3]"
   ]
  },
  {
   "cell_type": "markdown",
   "metadata": {
    "id": "LF28_TrqjN3X"
   },
   "source": [
    "Опишем агента, который повторяет последний успешный ход. Если сыграли в ничью или был проигрыш - выбирает новый ход"
   ]
  },
  {
   "cell_type": "code",
   "execution_count": 14,
   "metadata": {
    "id": "wihL1zbp5r1L"
   },
   "outputs": [],
   "source": [
    "# вспомогательная функция, которая определяет результат хода для игрока left_move\n",
    "def get_score(left_move, right_move):\n",
    "    delta = (\n",
    "        right_move - left_move\n",
    "        if (left_move + right_move) % 2 == 0\n",
    "        else left_move - right_move\n",
    "    )\n",
    "\n",
    "    # возвращает 0, если сыграли в ничью, 1 если победил left_move, -1 если left_move проиграл\n",
    "    return 0 if delta == 0 else math.copysign(1, delta)\n",
    "\n",
    "\n",
    "last_action = None\n",
    "\n",
    "def repeat_success_agent(observation):\n",
    "    global last_action\n",
    "\n",
    "    if observation.step == 0 or get_score(last_action, observation.lastOpponentAction) <= 0:\n",
    "        last_action = random.choice([0, 1, 2])\n",
    "\n",
    "    return last_action"
   ]
  },
  {
   "cell_type": "markdown",
   "metadata": {
    "id": "VdFnpyfWjpFm"
   },
   "source": [
    "Опишем агента, который выбирает случайный ход, но не такой как в прошлый раз"
   ]
  },
  {
   "cell_type": "code",
   "execution_count": 19,
   "metadata": {
    "id": "xVAFFeqaAXGR"
   },
   "outputs": [],
   "source": [
    "last_action = None\n",
    "\n",
    "# non-repeating random\n",
    "\n",
    "# Агент выбирает случайный ход, но не такой как в прошлый раз\n",
    "def random_skip_last_agent(observation):\n",
    "    global last_action\n",
    "\n",
    "    if observation.step == 0:\n",
    "      # на первом шаге выбираем случайным образом любой из 3 доступных ходов\n",
    "      last_action = random.choice([0, 1, 2])\n",
    "    else:\n",
    "      # со второго шага исключаем предыдущий ход из выборки\n",
    "      avaliable_actions = list(filter(lambda action: action != last_action, [0, 1, 2]))\n",
    "      # выбираем случайным образом любой из 2 оставшихся\n",
    "      last_action = random.choice(avaliable_actions)\n",
    "\n",
    "    return last_action"
   ]
  },
  {
   "cell_type": "markdown",
   "metadata": {
    "id": "7HtlZEeUoT5e"
   },
   "source": [
    "\n",
    "Опишем агента, который делает два хода \"ножницами\", а затем всегда играет \"бумагой\""
   ]
  },
  {
   "cell_type": "code",
   "execution_count": 16,
   "metadata": {
    "colab": {
     "base_uri": "https://localhost:8080/"
    },
    "id": "6dstWI5HoULd",
    "outputId": "eb8ddc55-e4ce-4d39-bd33-2bfa502cd71f"
   },
   "outputs": [],
   "source": [
    "def double_scissors_then_paper_agent(observation):\n",
    "    if observation.step % 3 < 2:\n",
    "        return 2\n",
    "    return 1"
   ]
  },
  {
   "cell_type": "markdown",
   "metadata": {
    "id": "3BSad1mwpXpd"
   },
   "source": [
    "Опишем агента, который делает первый ход случайным образом, а затем выбирает ход проигрышный по отношению к предыдущему ходу противника"
   ]
  },
  {
   "cell_type": "code",
   "execution_count": 18,
   "metadata": {
    "colab": {
     "base_uri": "https://localhost:8080/"
    },
    "id": "Lk9W6sGupX_m",
    "outputId": "8c2acb9d-c4a0-4f8d-ee79-b7e870d606ed"
   },
   "outputs": [],
   "source": [
    "def previous_lose_agent(observation):\n",
    "  if observation.step > 0:\n",
    "    if observation.lastOpponentAction == 0:\n",
    "      return 2\n",
    "    elif observation.lastOpponentAction == 1:\n",
    "      return 0\n",
    "    elif observation.lastOpponentAction == 2:\n",
    "      return 1\n",
    "  else:\n",
    "    return random.choice([0, 1, 2])"
   ]
  },
  {
   "cell_type": "code",
   "execution_count": 20,
   "metadata": {
    "id": "rKRA6KQLrNI6"
   },
   "outputs": [],
   "source": [
    "agents = {\n",
    "    'rock': rock_agent,\n",
    "    'paper': paper_agent,\n",
    "    'scissors': scissors_agent,\n",
    "    'copy': copy_agent,\n",
    "    'random': random_agent,\n",
    "    'weighted_random': weighted_random_agent,\n",
    "    'cycling': cycling_agent,\n",
    "    'cycling_3': cycling_3_agent,\n",
    "    'repeat_success': repeat_success_agent,\n",
    "    'random_skip_last': random_skip_last_agent,\n",
    "    'double_scissors_then': double_scissors_then_paper_agent,\n",
    "    'previous_lose': previous_lose_agent\n",
    "}"
   ]
  },
  {
   "cell_type": "markdown",
   "metadata": {
    "id": "UMngMJGzivjw"
   },
   "source": [
    "Опишем функцию для запуска турнира между агентами"
   ]
  },
  {
   "cell_type": "code",
   "execution_count": 21,
   "metadata": {
    "id": "pYkXWN-er5C0"
   },
   "outputs": [],
   "source": [
    "def run_tournament(agents):\n",
    "    environment = make(\"rps\", configuration={\"episodeSteps\": 100})\n",
    "    result = {name: 0 for name in agents}\n",
    "\n",
    "    # каждый агент играет с каждым\n",
    "    for left_name, left_agent in agents.items():\n",
    "        for right_name, right_agent in agents.items():\n",
    "            # aгент не играет сам с собой\n",
    "            if left_name == right_name:\n",
    "                continue\n",
    "\n",
    "            environment.reset()\n",
    "            # запуск игры между \"левым\" и \"правым\" агентами\n",
    "            outcome = environment.run([left_agent, right_agent])\n",
    "            final_state = outcome[-1]\n",
    "\n",
    "            left_reward = final_state[0][\"reward\"]\n",
    "            right_reward = final_state[1][\"reward\"]\n",
    "\n",
    "            # обновляем счет\n",
    "            if left_reward > right_reward:\n",
    "                result[left_name] += 1\n",
    "            elif right_reward > left_reward:\n",
    "                result[right_name] += 1\n",
    "\n",
    "    return result"
   ]
  },
  {
   "cell_type": "markdown",
   "metadata": {
    "id": "u927miCqijve"
   },
   "source": [
    "Запустим турнир и выведем результаты в логи"
   ]
  },
  {
   "cell_type": "code",
   "execution_count": 22,
   "metadata": {
    "colab": {
     "base_uri": "https://localhost:8080/"
    },
    "id": "m3PnouanipSl",
    "outputId": "4ad7e986-00ab-4294-ad8a-1f8cb144ef96"
   },
   "outputs": [
    {
     "name": "stdout",
     "output_type": "stream",
     "text": [
      "Результат турнира:\n",
      "repeat_success: 11 побед\n",
      "rock: 8 побед\n",
      "scissors: 6 побед\n",
      "weighted_random: 6 побед\n",
      "previous_lose: 5 побед\n",
      "paper: 4 побед\n",
      "cycling: 4 побед\n",
      "cycling_3: 4 побед\n",
      "double_scissors_then: 2 побед\n",
      "copy: 1 побед\n",
      "random: 0 побед\n",
      "random_skip_last: 0 побед\n"
     ]
    }
   ],
   "source": [
    "\n",
    "tournament_results = run_tournament(agents)\n",
    "sorted_result = sorted(tournament_results.items(), key=lambda x: x[1], reverse=True)\n",
    "\n",
    "print(\"Результат турнира:\")\n",
    "for agent, score in sorted_result:\n",
    "    print(f\"{agent}: {score} побед\")"
   ]
  }
 ],
 "metadata": {
  "colab": {
   "provenance": []
  },
  "kernelspec": {
   "display_name": "Python 3",
   "name": "python3"
  },
  "language_info": {
   "codemirror_mode": {
    "name": "ipython",
    "version": 3
   },
   "file_extension": ".py",
   "mimetype": "text/x-python",
   "name": "python",
   "nbconvert_exporter": "python",
   "pygments_lexer": "ipython3",
   "version": "3.11.3"
  }
 },
 "nbformat": 4,
 "nbformat_minor": 0
}
